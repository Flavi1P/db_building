{
 "cells": [
  {
   "cell_type": "code",
   "execution_count": 1,
   "metadata": {},
   "outputs": [
    {
     "ename": "ModuleNotFoundError",
     "evalue": "No module named 'pandas'",
     "output_type": "error",
     "traceback": [
      "\u001b[1;31m---------------------------------------------------------------------------\u001b[0m",
      "\u001b[1;31mModuleNotFoundError\u001b[0m                       Traceback (most recent call last)",
      "Cell \u001b[1;32mIn[1], line 2\u001b[0m\n\u001b[0;32m      1\u001b[0m \u001b[38;5;28;01mimport\u001b[39;00m \u001b[38;5;21;01mos\u001b[39;00m\n\u001b[1;32m----> 2\u001b[0m \u001b[38;5;28;01mimport\u001b[39;00m \u001b[38;5;21;01mpandas\u001b[39;00m \u001b[38;5;28;01mas\u001b[39;00m \u001b[38;5;21;01mpd\u001b[39;00m\n\u001b[0;32m      3\u001b[0m \u001b[38;5;28;01mimport\u001b[39;00m \u001b[38;5;21;01mxarray\u001b[39;00m \u001b[38;5;28;01mas\u001b[39;00m \u001b[38;5;21;01mxr\u001b[39;00m\n\u001b[0;32m      4\u001b[0m \u001b[38;5;28;01mimport\u001b[39;00m \u001b[38;5;21;01msys\u001b[39;00m\n",
      "\u001b[1;31mModuleNotFoundError\u001b[0m: No module named 'pandas'"
     ]
    }
   ],
   "source": [
    "import os\n",
    "import pandas as pd\n",
    "import xarray as xr\n",
    "import sys\n",
    "sys.path.append('C:/Users/flapet/OneDrive - NOC/Documents/utils_python')\n",
    "from functions.float_download import *\n",
    "import urllib3\n",
    "import shutil\n",
    "import requests"
   ]
  },
  {
   "cell_type": "code",
   "execution_count": 2,
   "metadata": {},
   "outputs": [],
   "source": [
    "wmo_number = [6990636, 3901581, 1902695, 4903659, 7902223, 1902637, 3901586, 1902304, 4903532]"
   ]
  },
  {
   "cell_type": "code",
   "execution_count": 3,
   "metadata": {},
   "outputs": [],
   "source": [
    "root = 'C:/Users/flapet/OneDrive - NOC/Documents/IDAPro/lib/db_building'\n",
    "profile_dir = root + '/data/argo_nc/'\n",
    "natl_dir = profile_dir + 'North_Atlantic/'\n",
    "\n",
    "# Create GO-BGC folders if they do not exist yet\n",
    "if 'data' not in os.listdir(root):\n",
    "  os.mkdir(root + '/data')\n",
    "if 'argo_nc' not in os.listdir(root + '/data'):\n",
    "  os.mkdir(profile_dir)"
   ]
  },
  {
   "cell_type": "code",
   "execution_count": null,
   "metadata": {},
   "outputs": [],
   "source": [
    "wmoids, gdac_index, downloaded_filenames \\\n",
    "                   = argo_gdac(floats=wmo_number, save_to=profile_dir, overwrite_index=True, overwrite_profiles=True)"
   ]
  },
  {
   "cell_type": "code",
   "execution_count": 5,
   "metadata": {},
   "outputs": [],
   "source": [
    "import plotly.graph_objects as go"
   ]
  },
  {
   "cell_type": "code",
   "execution_count": null,
   "metadata": {},
   "outputs": [],
   "source": [
    "# Choose whether to plot temperature ('temp'), salinity ('psal'), chlorophyll ('chla'), backscatter ('bbp'),\n",
    "#                        dissolved oxygen ('doxy'), nitrate ('NO3'), or pH ('pH') on map\n",
    "which_param = 'temp'\n",
    "\n",
    "# Set up Plotly canvas\n",
    "fig = go.Figure(go.Scattergeo())\n",
    "\n",
    "# Iterate through floats downloaded\n",
    "for filename in [f for f in os.listdir(profile_dir) if os.path.isfile(os.path.join(profile_dir, f)) and f.endswith('.nc')]:\n",
    "\n",
    "  # Load float data\n",
    "  data = xr.open_dataset(profile_dir + filename)\n",
    "\n",
    "  # Organize data for hover text\n",
    "  hov = data[['CYCLE_NUMBER','JULD','LATITUDE','LONGITUDE']].to_pandas()\n",
    "\n",
    "  # Calculate near-surface parameter values\n",
    "  if which_param == 'temp':\n",
    "    param_name = 'TEMP'; cmin = 15; cmax = 13; colorscale = 'Thermal'\n",
    "    title = 'Temperature (°C)'; hover_str = 'Near-surface temperature: %{customdata[4]:.02f}°C'\n",
    "  elif which_param == 'psal':\n",
    "    param_name = 'PSAL_ADJUSTED'; cmin = 35.5; cmax = 37.5; colorscale = 'haline'\n",
    "    title = 'Salinity (PSU)'; hover_str = 'Near-surface salinity: %{customdata[4]:.02f} PSU'\n",
    "  elif which_param == 'chla':\n",
    "    param_name = 'CHLA_ADJUSTED'; cmin = 0.0; cmax = 1.5; colorscale = 'algae'\n",
    "    title = 'Chlorophyll-a (mg/m^3)'; hover_str = 'Near-surface chlorophyll-a: %{customdata[4]:.02f} mg/m^3'\n",
    "  elif which_param == 'bbp':\n",
    "    param_name = 'BBP700'; cmin = 0.0; cmax = 0.001; colorscale = 'matter'\n",
    "    title = 'Particle backscattering at 700 nm (m^-1)'; hover_str = 'Near-surface backscattering: %{customdata[4]:.05f} m^-1'\n",
    "  elif which_param == 'doxy':\n",
    "    param_name = 'DOXY_ADJUSTED'; cmin = 190; cmax = 350; colorscale = 'ice'\n",
    "    title = 'Dissolved oxygen (µmol/kg)'; hover_str = 'Near-surface dissolved oxygen: %{customdata[4]:.02f} µmol/kg'\n",
    "  elif which_param == 'NO3':\n",
    "    param_name = 'NITRATE_ADJUSTED'; cmin = 0.0; cmax = 1.5; colorscale = 'PuRd'\n",
    "    title = 'Nitrate (µmol/kg)'; hover_str = 'Near-surface nitrate: %{customdata[4]:.02f} µmol/kg'\n",
    "  elif which_param == 'pH':\n",
    "    param_name = 'PH_IN_SITU_TOTAL_ADJUSTED'; cmin = 7.95; cmax = 8.10; colorscale = 'Sunset'\n",
    "    title = 'pH'; hover_str = 'Near-surface pH: %{customdata[4]:.02f}'\n",
    "  hov['NEAR_SURF'] = [prof[~np.isnan(prof)][0] if len(prof[~np.isnan(prof)]) > 1 else np.NaN for prof in data[param_name].values]\n",
    "\n",
    "  # Add float trajectory to map\n",
    "  fig.add_trace(go.Scattermapbox(mode = 'lines',\n",
    "                                 lon = hov['LONGITUDE'],\n",
    "                                 lat = hov['LATITUDE'],\n",
    "                                 marker = go.scattermapbox.Marker(color='white',size=5),\n",
    "                                 showlegend = False))\n",
    "  fig.add_trace(go.Scattermapbox(mode = 'markers',\n",
    "                                 lon = hov['LONGITUDE'],\n",
    "                                 lat = hov['LATITUDE'],\n",
    "                                 marker = go.scattermapbox.Marker(color=hov['NEAR_SURF'],size=10,cmin=cmin,cmax=cmax,\n",
    "                                                                  colorscale=colorscale,\n",
    "                                                                  colorbar={'title':title,'titleside':'right'},\n",
    "                                                                  showscale=True),\n",
    "                                 customdata = hov.values,\n",
    "                                 hovertemplate = 'Profile #: %{customdata[0]}<br>Time: %{customdata[1]}<br>' + \\\n",
    "                                    'Latitude: %{customdata[2]:.02f}<br>Longitude: %{customdata[3]:.02f}<br>' + hover_str,\n",
    "                                 name = 'Float: ' + data['PLATFORM_NUMBER'].values[0].decode('utf-8'),\n",
    "                                 showlegend = False))\n",
    "\n",
    "# Formatting and basemap\n",
    "fig.update_layout(margin = {'l':0,'t':0,'b':0,'r':0},\n",
    "                  height = 500,\n",
    "                  width = 1000,\n",
    "                  autosize = False,\n",
    "                  hovermode = 'closest',\n",
    "                  mapbox = {'style':'open-street-map',\n",
    "                            'center':{'lon':-20,'lat':60},\n",
    "                            'zoom':4.0})"
   ]
  },
  {
   "cell_type": "code",
   "execution_count": 7,
   "metadata": {},
   "outputs": [],
   "source": [
    "import polars as pl\n",
    "import pyarrow.parquet as pq"
   ]
  },
  {
   "cell_type": "code",
   "execution_count": null,
   "metadata": {},
   "outputs": [],
   "source": [
    "variables = ['PLATFORM_NUMBER', 'N_PROF', 'JULD', 'LONGITUDE', 'LATITUDE', 'PRES', 'TEMP', 'PSAL', 'CHLA_ADJUSTED', 'BBP700_ADJUSTED', 'DOWNWELLING_PAR', 'DOWN_IRRADIANCE490', 'NITRATE_ADJUSTED', 'DOXY_ADJUSTED']\n",
    "\n",
    "df_list = []\n",
    "\n",
    "\n",
    "for filename in [f for f in os.listdir(profile_dir) if os.path.isfile(os.path.join(profile_dir, f)) and f.endswith('.nc')]:\n",
    "    filepath = os.path.join(profile_dir, filename)\n",
    "    ds = xr.open_dataset(filepath)\n",
    "    \n",
    "    # Check for missing variables\n",
    "    available_vars = set(ds.data_vars.keys())  # All variables in the current dataset\n",
    "    missing_vars = [var for var in variables if var not in available_vars]\n",
    "    \n",
    "    # Add missing variables to the dataset with NaN values, matching the dimensions\n",
    "    for var in missing_vars:\n",
    "        if 'N_PROF' in ds.dims:  # If the dataset has the 'N_PROF' dimension\n",
    "            ds[var] = (('N_PROF',), [np.nan] * ds.dims['N_PROF'])  # Create a variable with NaN values matching 'N_PROF'\n",
    "        else:\n",
    "            ds[var] = np.nan  # If no dimensions, add as a scalar (unlikely for most BGC-Argo data)\n",
    "\n",
    "    # Convert xarray Dataset to Polars DataFrame\n",
    "    df = pl.DataFrame(ds[variables].to_dataframe())  # Convert selected variables to a DataFrame\n",
    "    \n",
    "    # Cast float columns to Float64 for consistency\n",
    "    float_cols = [col for col in df.columns if df[col].dtype in [pl.Float32, pl.Float64]]\n",
    "    df = df.with_columns([pl.col(col).cast(pl.Float64) for col in float_cols])  # Ensure all floats are Float64\n",
    "    \n",
    "    # Convert PLATFORM_NUMBER to a string\n",
    "    df = df.with_columns(pl.col(\"PLATFORM_NUMBER\").cast(pl.Utf8))\n",
    "    \n",
    "    df_list.append(df)\n",
    "    \n",
    "# Concatenate all DataFrames into one\n",
    "argo_table = pl.concat(df_list)\n",
    "\n",
    "argo_table.write_parquet(root + '/data/argo_pq/biocarbon_floats_table.parquet')"
   ]
  },
  {
   "cell_type": "code",
   "execution_count": null,
   "metadata": {},
   "outputs": [],
   "source": [
    "res = argo_table.group_by(['PLATFORM_NUMBER']).len()\n",
    "print(res)"
   ]
  }
 ],
 "metadata": {
  "kernelspec": {
   "display_name": "Python 3",
   "language": "python",
   "name": "python3"
  },
  "language_info": {
   "codemirror_mode": {
    "name": "ipython",
    "version": 3
   },
   "file_extension": ".py",
   "mimetype": "text/x-python",
   "name": "python",
   "nbconvert_exporter": "python",
   "pygments_lexer": "ipython3",
   "version": "3.12.2"
  }
 },
 "nbformat": 4,
 "nbformat_minor": 2
}
