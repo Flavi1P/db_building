{
 "cells": [
  {
   "cell_type": "code",
   "execution_count": 30,
   "metadata": {
    "vscode": {
     "languageId": "html"
    }
   },
   "outputs": [],
   "source": [
    "#Download BGC Argo Floats data\n"
   ]
  },
  {
   "cell_type": "code",
   "execution_count": 15,
   "metadata": {},
   "outputs": [],
   "source": [
    "import polars as pl\n",
    "import requests\n",
    "import shutil\n",
    "import os\n",
    "import gzip\n",
    "from pathlib import Path\n",
    "import re\n",
    "from tqdm import tqdm"
   ]
  },
  {
   "cell_type": "code",
   "execution_count": 4,
   "metadata": {},
   "outputs": [],
   "source": [
    "host = 'https://data-argo.ifremer.fr/argo_synthetic-profile_index.txt'\n",
    "dac = 'https://data-argo.ifremer.fr/dac'\n",
    "data_directory = 'C:/Users/flapet/OneDrive - NOC/Documents/IDAPro/lib/db_building/data'\n",
    "filename = 'synth_file.txt'\n",
    "destination = os.path.join(data_directory, filename)"
   ]
  },
  {
   "cell_type": "code",
   "execution_count": 66,
   "metadata": {},
   "outputs": [],
   "source": [
    "response = requests.get(host, stream=True)\n",
    "\n",
    "with open(destination, \"wb\") as f:\n",
    "    r = requests.get(host)\n",
    "    f.write(r.content)\n"
   ]
  },
  {
   "cell_type": "code",
   "execution_count": 5,
   "metadata": {},
   "outputs": [
    {
     "data": {
      "text/plain": [
       "306621"
      ]
     },
     "execution_count": 5,
     "metadata": {},
     "output_type": "execute_result"
    }
   ],
   "source": [
    "index_table = pl.read_csv(destination, skip_rows=8)\n",
    "index_table.height"
   ]
  },
  {
   "cell_type": "code",
   "execution_count": 6,
   "metadata": {},
   "outputs": [],
   "source": [
    "def extract_digits(text):\n",
    "    match = re.search(r'\\d+', text)\n",
    "    return match.group() if match else 0"
   ]
  },
  {
   "cell_type": "code",
   "execution_count": 7,
   "metadata": {},
   "outputs": [
    {
     "name": "stdout",
     "output_type": "stream",
     "text": [
      "shape: (306_621, 11)\n",
      "┌────────────┬────────────┬──────────┬───────────┬───┬───────────┬───────────┬───────────┬─────────┐\n",
      "│ file       ┆ date       ┆ latitude ┆ longitude ┆ … ┆ parameter ┆ parameter ┆ date_upda ┆ wmo     │\n",
      "│ ---        ┆ ---        ┆ ---      ┆ ---       ┆   ┆ s         ┆ _data_mod ┆ te        ┆ ---     │\n",
      "│ str        ┆ i64        ┆ f64      ┆ f64       ┆   ┆ ---       ┆ e         ┆ ---       ┆ str     │\n",
      "│            ┆            ┆          ┆           ┆   ┆ str       ┆ ---       ┆ i64       ┆         │\n",
      "│            ┆            ┆          ┆           ┆   ┆           ┆ str       ┆           ┆         │\n",
      "╞════════════╪════════════╪══════════╪═══════════╪═══╪═══════════╪═══════════╪═══════════╪═════════╡\n",
      "│ aoml/19007 ┆ 2006102202 ┆ -40.316  ┆ 73.389    ┆ … ┆ PRES TEMP ┆ DDDD      ┆ 202206280 ┆ 1900722 │\n",
      "│ 22/profile ┆ 1624       ┆          ┆           ┆   ┆ PSAL DOXY ┆           ┆ 80801     ┆         │\n",
      "│ s/SD190072 ┆            ┆          ┆           ┆   ┆           ┆           ┆           ┆         │\n",
      "│ 2_…        ┆            ┆          ┆           ┆   ┆           ┆           ┆           ┆         │\n",
      "│ aoml/19007 ┆ 2006110106 ┆ -40.39   ┆ 73.528    ┆ … ┆ PRES TEMP ┆ DDDD      ┆ 202206280 ┆ 1900722 │\n",
      "│ 22/profile ┆ 4423       ┆          ┆           ┆   ┆ PSAL DOXY ┆           ┆ 80813     ┆         │\n",
      "│ s/SD190072 ┆            ┆          ┆           ┆   ┆           ┆           ┆           ┆         │\n",
      "│ 2_…        ┆            ┆          ┆           ┆   ┆           ┆           ┆           ┆         │\n",
      "│ aoml/19007 ┆ 2006111110 ┆ -40.455  ┆ 73.335    ┆ … ┆ PRES TEMP ┆ DDDD      ┆ 202206280 ┆ 1900722 │\n",
      "│ 22/profile ┆ 1222       ┆          ┆           ┆   ┆ PSAL DOXY ┆           ┆ 80826     ┆         │\n",
      "│ s/SD190072 ┆            ┆          ┆           ┆   ┆           ┆           ┆           ┆         │\n",
      "│ 2_…        ┆            ┆          ┆           ┆   ┆           ┆           ┆           ┆         │\n",
      "│ aoml/19007 ┆ 2006112107 ┆ -40.134  ┆ 73.08     ┆ … ┆ PRES TEMP ┆ DDDD      ┆ 202206280 ┆ 1900722 │\n",
      "│ 22/profile ┆ 5021       ┆          ┆           ┆   ┆ PSAL DOXY ┆           ┆ 80839     ┆         │\n",
      "│ s/SD190072 ┆            ┆          ┆           ┆   ┆           ┆           ┆           ┆         │\n",
      "│ 2_…        ┆            ┆          ┆           ┆   ┆           ┆           ┆           ┆         │\n",
      "│ aoml/19007 ┆ 2006120118 ┆ -39.641  ┆ 73.158    ┆ … ┆ PRES TEMP ┆ DDDD      ┆ 202206280 ┆ 1900722 │\n",
      "│ 22/profile ┆ 3300       ┆          ┆           ┆   ┆ PSAL DOXY ┆           ┆ 80852     ┆         │\n",
      "│ s/SD190072 ┆            ┆          ┆           ┆   ┆           ┆           ┆           ┆         │\n",
      "│ 2_…        ┆            ┆          ┆           ┆   ┆           ┆           ┆           ┆         │\n",
      "│ …          ┆ …          ┆ …        ┆ …         ┆ … ┆ …         ┆ …         ┆ …         ┆ …       │\n",
      "│ meds/49026 ┆ 2024020209 ┆ null     ┆ null      ┆ … ┆ PRES TEMP ┆ RRRRRRRRA ┆ 202402232 ┆ 4902685 │\n",
      "│ 85/profile ┆ 0400       ┆          ┆           ┆   ┆ PSAL DOXY ┆ R         ┆ 02011     ┆         │\n",
      "│ s/SR490268 ┆            ┆          ┆           ┆   ┆ DOWN_IRRA ┆           ┆           ┆         │\n",
      "│ 5_…        ┆            ┆          ┆           ┆   ┆ DIA…      ┆           ┆           ┆         │\n",
      "│ meds/49026 ┆ 2024020714 ┆ 57.762   ┆ -50.095   ┆ … ┆ PRES TEMP ┆ RRRRRRRRA ┆ 202402232 ┆ 4902685 │\n",
      "│ 85/profile ┆ 2000       ┆          ┆           ┆   ┆ PSAL DOXY ┆ R         ┆ 02021     ┆         │\n",
      "│ s/SR490268 ┆            ┆          ┆           ┆   ┆ DOWN_IRRA ┆           ┆           ┆         │\n",
      "│ 5_…        ┆            ┆          ┆           ┆   ┆ DIA…      ┆           ┆           ┆         │\n",
      "│ meds/49026 ┆ 2024021219 ┆ null     ┆ null      ┆ … ┆ PRES TEMP ┆ RRRRRRRRA ┆ 202402232 ┆ 4902685 │\n",
      "│ 85/profile ┆ 2100       ┆          ┆           ┆   ┆ PSAL DOXY ┆ R         ┆ 02032     ┆         │\n",
      "│ s/SR490268 ┆            ┆          ┆           ┆   ┆ DOWN_IRRA ┆           ┆           ┆         │\n",
      "│ 5_…        ┆            ┆          ┆           ┆   ┆ DIA…      ┆           ┆           ┆         │\n",
      "│ meds/49026 ┆ 2024021800 ┆ null     ┆ null      ┆ … ┆ PRES TEMP ┆ RRRRRRRRA ┆ 202402232 ┆ 4902685 │\n",
      "│ 85/profile ┆ 3800       ┆          ┆           ┆   ┆ PSAL DOXY ┆ R         ┆ 02042     ┆         │\n",
      "│ s/SR490268 ┆            ┆          ┆           ┆   ┆ DOWN_IRRA ┆           ┆           ┆         │\n",
      "│ 5_…        ┆            ┆          ┆           ┆   ┆ DIA…      ┆           ┆           ┆         │\n",
      "│ meds/49026 ┆ 2024022305 ┆ 57.713   ┆ -49.046   ┆ … ┆ PRES TEMP ┆ RRRRRRRRA ┆ 202402232 ┆ 4902685 │\n",
      "│ 85/profile ┆ 5000       ┆          ┆           ┆   ┆ PSAL DOXY ┆ R         ┆ 02052     ┆         │\n",
      "│ s/SR490268 ┆            ┆          ┆           ┆   ┆ DOWN_IRRA ┆           ┆           ┆         │\n",
      "│ 5_…        ┆            ┆          ┆           ┆   ┆ DIA…      ┆           ┆           ┆         │\n",
      "└────────────┴────────────┴──────────┴───────────┴───┴───────────┴───────────┴───────────┴─────────┘\n"
     ]
    }
   ],
   "source": [
    "# Mutate a new column based on the regular expression extraction\n",
    "index_table = index_table.with_columns(\n",
    "    pl.col('file').map_elements(lambda x: extract_digits(x), return_dtype=pl.Utf8).alias('wmo')\n",
    ")\n",
    "print(index_table)"
   ]
  },
  {
   "cell_type": "code",
   "execution_count": 26,
   "metadata": {},
   "outputs": [
    {
     "data": {
      "text/plain": [
       "19"
      ]
     },
     "execution_count": 26,
     "metadata": {},
     "output_type": "execute_result"
    }
   ],
   "source": [
    "wmo = '4902685'\n",
    "wmo_table = index_table.filter(pl.col('wmo') == wmo)\n",
    "wmo_table.height"
   ]
  },
  {
   "cell_type": "code",
   "execution_count": 27,
   "metadata": {},
   "outputs": [
    {
     "name": "stdout",
     "output_type": "stream",
     "text": [
      "meds/4902685/profiles/SR4902685_001D.nc\n"
     ]
    }
   ],
   "source": [
    "print(wmo_table['file'][1])"
   ]
  },
  {
   "cell_type": "code",
   "execution_count": 28,
   "metadata": {},
   "outputs": [],
   "source": [
    "local_argo_directory = data_directory + '/argo_nc'\n",
    "wmo_directory = local_argo_directory + '/' + wmo\n",
    "dac = 'https://data-argo.ifremer.fr/dac'\n",
    "Path(wmo_directory).mkdir(parents=True, exist_ok=True)\n",
    "\n"
   ]
  },
  {
   "cell_type": "code",
   "execution_count": 29,
   "metadata": {},
   "outputs": [
    {
     "name": "stderr",
     "output_type": "stream",
     "text": [
      "100%|██████████| 19/19 [00:13<00:00,  1.44it/s]\n"
     ]
    }
   ],
   "source": [
    "from urllib.request import urlretrieve\n",
    "for i in tqdm(wmo_table['file']):\n",
    "    download_url = dac + '/' + i\n",
    "    filename = wmo_directory + '/' + download_url.rsplit('/', 1)[1]\n",
    "    urlretrieve(download_url, filename)\n",
    "\n"
   ]
  }
 ],
 "metadata": {
  "kernelspec": {
   "display_name": "Python 3",
   "language": "python",
   "name": "python3"
  },
  "language_info": {
   "codemirror_mode": {
    "name": "ipython",
    "version": 3
   },
   "file_extension": ".py",
   "mimetype": "text/x-python",
   "name": "python",
   "nbconvert_exporter": "python",
   "pygments_lexer": "ipython3",
   "version": "3.12.2"
  }
 },
 "nbformat": 4,
 "nbformat_minor": 2
}
