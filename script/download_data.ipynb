{
 "cells": [
  {
   "cell_type": "markdown",
   "metadata": {
    "vscode": {
     "languageId": "html"
    }
   },
   "source": [
    "# Download BGC Argo Floats data\n",
    "This notebook must be used to download files from a given float WMO.\n"
   ]
  },
  {
   "cell_type": "code",
   "execution_count": 1,
   "metadata": {},
   "outputs": [],
   "source": [
    "import polars as pl\n",
    "import pandas as pd\n",
    "import requests\n",
    "import shutil\n",
    "import os\n",
    "import gzip\n",
    "from pathlib import Path\n",
    "import re\n",
    "from tqdm import tqdm\n",
    "from urllib.request import urlretrieve\n",
    "import xarray as xr\n",
    "import matplotlib.pyplot as plt\n",
    "import matplotlib as mpl"
   ]
  },
  {
   "cell_type": "code",
   "execution_count": 2,
   "metadata": {},
   "outputs": [],
   "source": [
    "host = 'https://data-argo.ifremer.fr/argo_synthetic-profile_index.txt'\n",
    "dac = 'https://data-argo.ifremer.fr/dac'\n",
    "data_directory = 'C:/Users/flapet/OneDrive - NOC/Documents/IDAPro/lib/db_building/data'\n",
    "filename = 'synth_file.txt'\n",
    "destination = os.path.join(data_directory, filename)"
   ]
  },
  {
   "cell_type": "code",
   "execution_count": 3,
   "metadata": {},
   "outputs": [],
   "source": [
    "response = requests.get(host, stream=True)\n",
    "\n",
    "with open(destination, \"wb\") as f:\n",
    "    r = requests.get(host)\n",
    "    f.write(r.content)\n"
   ]
  },
  {
   "cell_type": "code",
   "execution_count": 4,
   "metadata": {},
   "outputs": [
    {
     "data": {
      "text/plain": [
       "360854"
      ]
     },
     "execution_count": 4,
     "metadata": {},
     "output_type": "execute_result"
    }
   ],
   "source": [
    "index_table = pl.read_csv(destination, skip_rows=8)\n",
    "index_table.height"
   ]
  },
  {
   "cell_type": "code",
   "execution_count": 5,
   "metadata": {},
   "outputs": [],
   "source": [
    "def extract_digits(text):\n",
    "    match = re.search(r'\\d+', text)\n",
    "    return match.group() if match else 0"
   ]
  },
  {
   "cell_type": "code",
   "execution_count": 6,
   "metadata": {},
   "outputs": [
    {
     "name": "stdout",
     "output_type": "stream",
     "text": [
      "shape: (360_854, 11)\n",
      "┌────────────┬────────────┬──────────┬───────────┬───┬───────────┬───────────┬───────────┬─────────┐\n",
      "│ file       ┆ date       ┆ latitude ┆ longitude ┆ … ┆ parameter ┆ parameter ┆ date_upda ┆ wmo     │\n",
      "│ ---        ┆ ---        ┆ ---      ┆ ---       ┆   ┆ s         ┆ _data_mod ┆ te        ┆ ---     │\n",
      "│ str        ┆ i64        ┆ f64      ┆ f64       ┆   ┆ ---       ┆ e         ┆ ---       ┆ str     │\n",
      "│            ┆            ┆          ┆           ┆   ┆ str       ┆ ---       ┆ i64       ┆         │\n",
      "│            ┆            ┆          ┆           ┆   ┆           ┆ str       ┆           ┆         │\n",
      "╞════════════╪════════════╪══════════╪═══════════╪═══╪═══════════╪═══════════╪═══════════╪═════════╡\n",
      "│ aoml/19007 ┆ 2006102202 ┆ -40.316  ┆ 73.389    ┆ … ┆ PRES TEMP ┆ DDDD      ┆ 202206280 ┆ 1900722 │\n",
      "│ 22/profile ┆ 1624       ┆          ┆           ┆   ┆ PSAL DOXY ┆           ┆ 80801     ┆         │\n",
      "│ s/SD190072 ┆            ┆          ┆           ┆   ┆           ┆           ┆           ┆         │\n",
      "│ 2_…        ┆            ┆          ┆           ┆   ┆           ┆           ┆           ┆         │\n",
      "│ aoml/19007 ┆ 2006110106 ┆ -40.39   ┆ 73.528    ┆ … ┆ PRES TEMP ┆ DDDD      ┆ 202206280 ┆ 1900722 │\n",
      "│ 22/profile ┆ 4423       ┆          ┆           ┆   ┆ PSAL DOXY ┆           ┆ 80813     ┆         │\n",
      "│ s/SD190072 ┆            ┆          ┆           ┆   ┆           ┆           ┆           ┆         │\n",
      "│ 2_…        ┆            ┆          ┆           ┆   ┆           ┆           ┆           ┆         │\n",
      "│ aoml/19007 ┆ 2006111110 ┆ -40.455  ┆ 73.335    ┆ … ┆ PRES TEMP ┆ DDDD      ┆ 202206280 ┆ 1900722 │\n",
      "│ 22/profile ┆ 1222       ┆          ┆           ┆   ┆ PSAL DOXY ┆           ┆ 80826     ┆         │\n",
      "│ s/SD190072 ┆            ┆          ┆           ┆   ┆           ┆           ┆           ┆         │\n",
      "│ 2_…        ┆            ┆          ┆           ┆   ┆           ┆           ┆           ┆         │\n",
      "│ aoml/19007 ┆ 2006112107 ┆ -40.134  ┆ 73.08     ┆ … ┆ PRES TEMP ┆ DDDD      ┆ 202206280 ┆ 1900722 │\n",
      "│ 22/profile ┆ 5021       ┆          ┆           ┆   ┆ PSAL DOXY ┆           ┆ 80839     ┆         │\n",
      "│ s/SD190072 ┆            ┆          ┆           ┆   ┆           ┆           ┆           ┆         │\n",
      "│ 2_…        ┆            ┆          ┆           ┆   ┆           ┆           ┆           ┆         │\n",
      "│ aoml/19007 ┆ 2006120118 ┆ -39.641  ┆ 73.158    ┆ … ┆ PRES TEMP ┆ DDDD      ┆ 202206280 ┆ 1900722 │\n",
      "│ 22/profile ┆ 3300       ┆          ┆           ┆   ┆ PSAL DOXY ┆           ┆ 80852     ┆         │\n",
      "│ s/SD190072 ┆            ┆          ┆           ┆   ┆           ┆           ┆           ┆         │\n",
      "│ 2_…        ┆            ┆          ┆           ┆   ┆           ┆           ┆           ┆         │\n",
      "│ …          ┆ …          ┆ …        ┆ …         ┆ … ┆ …         ┆ …         ┆ …         ┆ …       │\n",
      "│ meds/49026 ┆ 2025080811 ┆ 49.138   ┆ -130.281  ┆ … ┆ PRES TEMP ┆ RRRRRRRRA ┆ 202509170 ┆ 4902691 │\n",
      "│ 91/profile ┆ 3600       ┆          ┆           ┆   ┆ PSAL DOXY ┆ R         ┆ 04419     ┆         │\n",
      "│ s/SR490269 ┆            ┆          ┆           ┆   ┆ DOWN_IRRA ┆           ┆           ┆         │\n",
      "│ 1_…        ┆            ┆          ┆           ┆   ┆ DIA…      ┆           ┆           ┆         │\n",
      "│ meds/49026 ┆ 2025081811 ┆ 49.226   ┆ -130.149  ┆ … ┆ PRES TEMP ┆ RRRRRRRR  ┆ 202509170 ┆ 4902691 │\n",
      "│ 91/profile ┆ 3600       ┆          ┆           ┆   ┆ PSAL DOXY ┆           ┆ 04428     ┆         │\n",
      "│ s/SR490269 ┆            ┆          ┆           ┆   ┆ DOWN_IRRA ┆           ┆           ┆         │\n",
      "│ 1_…        ┆            ┆          ┆           ┆   ┆ DIA…      ┆           ┆           ┆         │\n",
      "│ meds/49026 ┆ 2025082811 ┆ 49.306   ┆ -129.776  ┆ … ┆ PRES TEMP ┆ RRRRRRRR  ┆ 202509170 ┆ 4902691 │\n",
      "│ 91/profile ┆ 3800       ┆          ┆           ┆   ┆ PSAL DOXY ┆           ┆ 04438     ┆         │\n",
      "│ s/SR490269 ┆            ┆          ┆           ┆   ┆ DOWN_IRRA ┆           ┆           ┆         │\n",
      "│ 1_…        ┆            ┆          ┆           ┆   ┆ DIA…      ┆           ┆           ┆         │\n",
      "│ meds/49026 ┆ 2025090711 ┆ 49.417   ┆ -129.268  ┆ … ┆ PRES TEMP ┆ RRRRRRRR  ┆ 202509252 ┆ 4902691 │\n",
      "│ 91/profile ┆ 4000       ┆          ┆           ┆   ┆ PSAL DOXY ┆           ┆ 00758     ┆         │\n",
      "│ s/SR490269 ┆            ┆          ┆           ┆   ┆ DOWN_IRRA ┆           ┆           ┆         │\n",
      "│ 1_…        ┆            ┆          ┆           ┆   ┆ DIA…      ┆           ┆           ┆         │\n",
      "│ meds/49026 ┆ 2025091711 ┆ 49.502   ┆ -128.684  ┆ … ┆ PRES TEMP ┆ RRRRRRRR  ┆ 202509252 ┆ 4902691 │\n",
      "│ 91/profile ┆ 3800       ┆          ┆           ┆   ┆ PSAL DOXY ┆           ┆ 00808     ┆         │\n",
      "│ s/SR490269 ┆            ┆          ┆           ┆   ┆ DOWN_IRRA ┆           ┆           ┆         │\n",
      "│ 1_…        ┆            ┆          ┆           ┆   ┆ DIA…      ┆           ┆           ┆         │\n",
      "└────────────┴────────────┴──────────┴───────────┴───┴───────────┴───────────┴───────────┴─────────┘\n"
     ]
    }
   ],
   "source": [
    "# Mutate a new column based on the regular expression extraction\n",
    "index_table = index_table.with_columns(\n",
    "    pl.col('file').map_elements(lambda x: extract_digits(x), return_dtype=pl.Utf8).alias('wmo')\n",
    ")\n",
    "print(index_table)"
   ]
  },
  {
   "cell_type": "code",
   "execution_count": 10,
   "metadata": {},
   "outputs": [
    {
     "data": {
      "text/plain": [
       "48"
      ]
     },
     "execution_count": 10,
     "metadata": {},
     "output_type": "execute_result"
    }
   ],
   "source": [
    "wmo = '7902223'\n",
    "wmo_table = index_table.filter(pl.col('wmo') == wmo)\n",
    "wmo_table.height"
   ]
  },
  {
   "cell_type": "code",
   "execution_count": 11,
   "metadata": {},
   "outputs": [],
   "source": [
    "local_argo_directory = data_directory + '/argo_nc'\n",
    "wmo_directory = local_argo_directory + '/' + wmo\n",
    "dac = 'https://data-argo.ifremer.fr/dac'\n",
    "aux = 'https://data-argo.ifremer.fr/aux'\n",
    "Path(wmo_directory).mkdir(parents=True, exist_ok=True)\n",
    "\n"
   ]
  },
  {
   "cell_type": "markdown",
   "metadata": {},
   "source": [
    "Download the merged Sprof of all profiles"
   ]
  },
  {
   "cell_type": "code",
   "execution_count": 12,
   "metadata": {},
   "outputs": [
    {
     "name": "stdout",
     "output_type": "stream",
     "text": [
      "https://data-argo.ifremer.fr/dac/coriolis/7902223/7902223_Sprof.nc\n"
     ]
    }
   ],
   "source": [
    "dac_name = wmo_table['file'][0].split('/', 1)[0]\n",
    "download_url = dac + '/' + dac_name + '/' + wmo + '/' + wmo + '_Sprof.nc'\n",
    "print(download_url)"
   ]
  },
  {
   "cell_type": "code",
   "execution_count": 13,
   "metadata": {},
   "outputs": [
    {
     "data": {
      "text/plain": [
       "('C:/Users/flapet/OneDrive - NOC/Documents/IDAPro/lib/db_building/data/argo_nc/7902223/7902223_Sprof.nc',\n",
       " <http.client.HTTPMessage at 0x27f0c9f0a30>)"
      ]
     },
     "execution_count": 13,
     "metadata": {},
     "output_type": "execute_result"
    }
   ],
   "source": [
    "\n",
    "filename = wmo_directory + '/' + download_url.rsplit('/', 1)[1]\n",
    "urlretrieve(download_url, filename)"
   ]
  },
  {
   "cell_type": "markdown",
   "metadata": {},
   "source": [
    "Download all the spearate profiles"
   ]
  },
  {
   "cell_type": "code",
   "execution_count": 14,
   "metadata": {},
   "outputs": [
    {
     "name": "stderr",
     "output_type": "stream",
     "text": [
      "100%|██████████| 48/48 [00:10<00:00,  4.54it/s]\n"
     ]
    }
   ],
   "source": [
    "for i in tqdm(wmo_table['file']):\n",
    "    download_url = dac + '/' + i\n",
    "    filename = wmo_directory + '/' + download_url.rsplit('/', 1)[1]\n",
    "    urlretrieve(download_url, filename)\n",
    "\n"
   ]
  },
  {
   "cell_type": "markdown",
   "metadata": {},
   "source": [
    "# Download auxiliary files"
   ]
  },
  {
   "cell_type": "code",
   "execution_count": null,
   "metadata": {},
   "outputs": [],
   "source": [
    "#Scrap the list of the nc file in the aux directory\n",
    "URL = aux + '/coriolis/1902601/profiles/'\n",
    "\n",
    "tables = pd.read_html(URL) # Returns list of all tables on page\n",
    "table = tables[0] # Select table of interest"
   ]
  },
  {
   "cell_type": "code",
   "execution_count": null,
   "metadata": {},
   "outputs": [],
   "source": [
    "#Format that table to remove na and non nc files\n",
    "nc_table = table.dropna(subset=['Name'])\n",
    "nc_table = nc_table[nc_table['Name'].str.endswith('.nc')]"
   ]
  },
  {
   "cell_type": "code",
   "execution_count": null,
   "metadata": {},
   "outputs": [],
   "source": [
    "print(wmo_directory + download_url.rsplit('/', 1)[1])"
   ]
  },
  {
   "cell_type": "code",
   "execution_count": null,
   "metadata": {},
   "outputs": [],
   "source": [
    "for i in tqdm(nc_table['Name']):\n",
    "    download_url = URL + '/' + i\n",
    "    filename = wmo_directory + '/' + download_url.rsplit('/', 1)[1]\n",
    "    urlretrieve(download_url, filename)"
   ]
  },
  {
   "cell_type": "markdown",
   "metadata": {},
   "source": [
    "## Play with ed data"
   ]
  },
  {
   "cell_type": "code",
   "execution_count": null,
   "metadata": {},
   "outputs": [],
   "source": [
    "filename = 'argo_nc/1902601/R1902601_020_aux.nc'\n",
    "filepath = os.path.join(data_directory, filename)\n",
    "data = xr.open_dataset(filepath)\n",
    "data = data.rename({'CYCLE_NUMBER':'PROF_NUM'}).swap_dims({'N_PROF':'PROF_NUM'})\n",
    "display(data)"
   ]
  },
  {
   "cell_type": "code",
   "execution_count": null,
   "metadata": {},
   "outputs": [],
   "source": [
    "ed = data['RAW_DOWNWELLING_IRRADIANCE']\n",
    "df = ed.to_dataframe(name='value')\n",
    "\n",
    "# Reset the index to make levels as a column\n",
    "df_reset = df.reset_index()\n",
    "\n",
    "# Create a unique identifier for each row\n",
    "df_reset['index'] = df_reset.groupby('N_LEVELS').cumcount()\n",
    "\n",
    "# Pivot the DataFrame\n",
    "df_pivot = df_reset.pivot(columns='N_VALUES70', values='value')"
   ]
  },
  {
   "cell_type": "code",
   "execution_count": null,
   "metadata": {},
   "outputs": [],
   "source": [
    "df_reset.head()"
   ]
  },
  {
   "cell_type": "code",
   "execution_count": null,
   "metadata": {},
   "outputs": [],
   "source": [
    "import seaborn as sns\n",
    "cmap = sns.cubehelix_palette(as_cmap=True)\n",
    "\n",
    "plt.figure(figsize=(12,6))\n",
    "df_reset.plot('N_VALUES70', 'value', color=df_reset['N_LEVELS'], cmap=cmap)\n",
    "plt.grid(alpha=0.5)\n",
    "plt.show()"
   ]
  },
  {
   "cell_type": "code",
   "execution_count": null,
   "metadata": {},
   "outputs": [],
   "source": [
    "import numpy as np\n",
    "fig1 = plt.figure()\n",
    "ax1 = fig1.add_subplot(111)\n",
    "\n",
    "for i in df_reset['N_LEVELS'].unique():\n",
    "    dat = df_reset[df_reset['N_LEVELS'] == i]\n",
    "    ax1.plot(dat['N_VALUES70'], dat['value'])\n",
    "\n",
    "colormap = plt.colormaps['viridis'] #nipy_spectral, Set1,Paired   \n",
    "colors = [colormap(i) for i in np.linspace(0, 1,len(ax1.lines))]\n",
    "for i,j in enumerate(ax1.lines):\n",
    "    j.set_color(colors[i])\n",
    "  \n",
    "\n",
    "ax1.legend(loc=2)"
   ]
  },
  {
   "cell_type": "code",
   "execution_count": null,
   "metadata": {},
   "outputs": [],
   "source": [
    "from matplotlib.cm import ScalarMappable\n",
    "from matplotlib.colors import Normalize\n",
    "\n",
    "# Plotting\n",
    "fig, ax = plt.subplots()\n",
    "\n",
    "df_reset = df_reset[df_reset['N_LEVELS'] < 200]\n",
    "# Create a ScalarMappable for colormap\n",
    "norm = Normalize(vmin=df_reset['N_LEVELS'].min(), vmax=df_reset['N_LEVELS'].max())\n",
    "cmap = plt.get_cmap('viridis')  # You can choose any colormap you prefer\n",
    "sm = ScalarMappable(norm=norm, cmap=cmap)\n",
    "sm.set_array([])\n",
    "\n",
    "# Plot each spectrum\n",
    "for depth, group in df_reset.groupby('N_LEVELS'):\n",
    "    ax.plot(group['N_VALUES70'], group['value'], color=cmap(norm(depth)))\n",
    "\n",
    "# Add colorbar\n",
    "cbar = plt.colorbar(sm, ax=ax)\n",
    "cbar.set_label('Depth')\n",
    "\n",
    "# Set labels and title\n",
    "ax.set_xlabel('Wavelength')\n",
    "ax.set_ylabel('Absorption')\n",
    "ax.set_title('Raw downard light')\n",
    "\n",
    "# Show legend\n",
    "ax.legend()\n",
    "\n",
    "plt.show()"
   ]
  }
 ],
 "metadata": {
  "kernelspec": {
   "display_name": "db_env (3.10.14)",
   "language": "python",
   "name": "python3"
  },
  "language_info": {
   "codemirror_mode": {
    "name": "ipython",
    "version": 3
   },
   "file_extension": ".py",
   "mimetype": "text/x-python",
   "name": "python",
   "nbconvert_exporter": "python",
   "pygments_lexer": "ipython3",
   "version": "3.10.14"
  }
 },
 "nbformat": 4,
 "nbformat_minor": 2
}
