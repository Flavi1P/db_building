{
 "cells": [
  {
   "cell_type": "markdown",
   "metadata": {
    "vscode": {
     "languageId": "plaintext"
    }
   },
   "source": [
    "# Visualisation of OG1 recovered data from BioCarbon"
   ]
  },
  {
   "cell_type": "code",
   "execution_count": 2,
   "metadata": {},
   "outputs": [],
   "source": [
    "import os\n",
    "import sys\n",
    "sys.path.append('C:/Users/flapet/OneDrive - NOC/Documents/utils_python')\n",
    "import pandas as pd\n",
    "import xarray as xr\n",
    "import numpy as np\n",
    "import matplotlib.pyplot as plt\n",
    "from datetime import datetime\n",
    "from functions.profiling import *\n",
    "from tqdm import tqdm"
   ]
  },
  {
   "cell_type": "code",
   "execution_count": 3,
   "metadata": {},
   "outputs": [],
   "source": [
    "current_dir = os.path.dirname(os.getcwd())"
   ]
  },
  {
   "cell_type": "code",
   "execution_count": 4,
   "metadata": {},
   "outputs": [],
   "source": [
    "dataset_paths = os.listdir(current_dir + \"/data/glider/raw/biocarbon_recovered_nc/\")\n",
    "dataset_full_paths = [os.path.join(current_dir, \"data/glider/raw/biocarbon_recovered_nc\", path) for path in dataset_paths]\n",
    "varlist = ['temperature', 'salinity', 'chlorophyll', 'backscatter_700', 'oxygen_concentration', 'par']"
   ]
  },
  {
   "cell_type": "code",
   "execution_count": null,
   "metadata": {},
   "outputs": [],
   "source": [
    "def plot_var(data, varname, savepath, ylim = 100):\n",
    "    start_date = np.datetime64('2024-05-28T00:00:00.000000000')\n",
    "    end_date = np.datetime64('2024-09-16T00:00:00.000000000')\n",
    "\n",
    "    time = data['time'].values\n",
    "\n",
    "    mask = (time > start_date) & (time < end_date)\n",
    "\n",
    "    time2 = time[mask]\n",
    "    depth = data['pressure'].values[mask]\n",
    "    chl = data[varname].values[mask]\n",
    "\n",
    "    if varname == 'par':\n",
    "        mask_var = chl > 20\n",
    "        time2 = time2[mask_var]\n",
    "        depth = depth[mask_var]\n",
    "        chl = chl[mask_var]\n",
    "        ylim = 30\n",
    "    \n",
    "    if varname == 'salinity':\n",
    "        mask_var = chl > 30\n",
    "        time2 = time2[mask_var]\n",
    "        depth = depth[mask_var]\n",
    "        chl = chl[mask_var]\n",
    "\n",
    "\n",
    "    plt.figure(figsize=(12,6))\n",
    "    plt.scatter(time2,depth,c = chl)\n",
    "    plt.ylim([0,ylim])\n",
    "    plt.gca().invert_yaxis()\n",
    "    plt.ylabel('Pressure (dbar)')\n",
    "    plt.colorbar(label='{0} ({1})'.format(data[varname].long_name,data[varname].units))\n",
    "    plt.title(label='{0} : {1}'.format(data.glider_name,data[varname].long_name))\n",
    "    plt.savefig(savepath)  \n",
    "    plt.close()"
   ]
  },
  {
   "cell_type": "code",
   "execution_count": 15,
   "metadata": {},
   "outputs": [
    {
     "name": "stderr",
     "output_type": "stream",
     "text": [
      " 25%|██▌       | 1/4 [00:00<00:00,  3.00it/s]"
     ]
    },
    {
     "name": "stdout",
     "output_type": "stream",
     "text": [
      "Plotting Churchill par transect\n"
     ]
    },
    {
     "name": "stderr",
     "output_type": "stream",
     "text": [
      " 75%|███████▌  | 3/4 [00:04<00:01,  1.45s/it]"
     ]
    },
    {
     "name": "stdout",
     "output_type": "stream",
     "text": [
      "Plotting Nelson par transect\n"
     ]
    },
    {
     "name": "stderr",
     "output_type": "stream",
     "text": [
      "100%|██████████| 4/4 [00:07<00:00,  1.87s/it]\n"
     ]
    }
   ],
   "source": [
    "for path in tqdm(dataset_full_paths):\n",
    "    dat = xr.open_dataset(path)\n",
    "    glider = dat.glider_name\n",
    "    if glider == 'Nelson' or glider == 'Churchill':\n",
    "        savedir = current_dir + f'/output/plots/{glider}'\n",
    "        if not os.path.isdir(savedir):\n",
    "            os.mkdir(savedir)\n",
    "        for var in tqdm(['par'], leave=False):\n",
    "            print(f'Plotting {glider} {var} transect')\n",
    "            savepath = savedir + f'/{glider}_{var}.png'\n",
    "            plot_var(dat, var, savepath)\n",
    "    dat.close()\n",
    "\n",
    "    "
   ]
  },
  {
   "cell_type": "code",
   "execution_count": 5,
   "metadata": {},
   "outputs": [
    {
     "name": "stderr",
     "output_type": "stream",
     "text": [
      "  0%|          | 0/4 [00:00<?, ?it/s]"
     ]
    },
    {
     "name": "stdout",
     "output_type": "stream",
     "text": [
      "Plotting Cabot temperature transect\n"
     ]
    },
    {
     "name": "stderr",
     "output_type": "stream",
     "text": []
    },
    {
     "name": "stdout",
     "output_type": "stream",
     "text": [
      "Plotting Cabot salinity transect\n"
     ]
    },
    {
     "name": "stderr",
     "output_type": "stream",
     "text": []
    },
    {
     "name": "stdout",
     "output_type": "stream",
     "text": [
      "Plotting Cabot chlorophyll transect\n"
     ]
    },
    {
     "name": "stderr",
     "output_type": "stream",
     "text": []
    },
    {
     "name": "stdout",
     "output_type": "stream",
     "text": [
      "Plotting Cabot backscatter_700 transect\n"
     ]
    },
    {
     "name": "stderr",
     "output_type": "stream",
     "text": []
    },
    {
     "name": "stdout",
     "output_type": "stream",
     "text": [
      "Plotting Cabot oxygen_concentration transect\n"
     ]
    },
    {
     "name": "stderr",
     "output_type": "stream",
     "text": [
      " 25%|██▌       | 1/4 [20:07<1:00:23, 1207.75s/it]"
     ]
    },
    {
     "name": "stdout",
     "output_type": "stream",
     "text": [
      "Plotting Churchill temperature transect\n"
     ]
    },
    {
     "name": "stderr",
     "output_type": "stream",
     "text": []
    },
    {
     "name": "stdout",
     "output_type": "stream",
     "text": [
      "Plotting Churchill salinity transect\n"
     ]
    },
    {
     "name": "stderr",
     "output_type": "stream",
     "text": []
    },
    {
     "name": "stdout",
     "output_type": "stream",
     "text": [
      "Plotting Churchill chlorophyll transect\n"
     ]
    },
    {
     "name": "stderr",
     "output_type": "stream",
     "text": []
    },
    {
     "name": "stdout",
     "output_type": "stream",
     "text": [
      "Plotting Churchill backscatter_700 transect\n"
     ]
    },
    {
     "name": "stderr",
     "output_type": "stream",
     "text": []
    },
    {
     "name": "stdout",
     "output_type": "stream",
     "text": [
      "Plotting Churchill oxygen_concentration transect\n"
     ]
    },
    {
     "name": "stderr",
     "output_type": "stream",
     "text": [
      " 50%|█████     | 2/4 [33:09<31:54, 957.16s/it]   "
     ]
    },
    {
     "name": "stdout",
     "output_type": "stream",
     "text": [
      "Plotting Doombar temperature transect\n"
     ]
    },
    {
     "name": "stderr",
     "output_type": "stream",
     "text": []
    },
    {
     "name": "stdout",
     "output_type": "stream",
     "text": [
      "Plotting Doombar salinity transect\n"
     ]
    },
    {
     "name": "stderr",
     "output_type": "stream",
     "text": []
    },
    {
     "name": "stdout",
     "output_type": "stream",
     "text": [
      "Plotting Doombar chlorophyll transect\n"
     ]
    },
    {
     "name": "stderr",
     "output_type": "stream",
     "text": []
    },
    {
     "name": "stdout",
     "output_type": "stream",
     "text": [
      "Plotting Doombar backscatter_700 transect\n"
     ]
    },
    {
     "name": "stderr",
     "output_type": "stream",
     "text": []
    },
    {
     "name": "stdout",
     "output_type": "stream",
     "text": [
      "Plotting Doombar oxygen_concentration transect\n"
     ]
    },
    {
     "name": "stderr",
     "output_type": "stream",
     "text": [
      " 75%|███████▌  | 3/4 [54:19<18:20, 1100.24s/it]"
     ]
    },
    {
     "name": "stdout",
     "output_type": "stream",
     "text": [
      "Plotting Nelson temperature transect\n"
     ]
    },
    {
     "name": "stderr",
     "output_type": "stream",
     "text": []
    },
    {
     "name": "stdout",
     "output_type": "stream",
     "text": [
      "Plotting Nelson salinity transect\n"
     ]
    },
    {
     "name": "stderr",
     "output_type": "stream",
     "text": []
    },
    {
     "name": "stdout",
     "output_type": "stream",
     "text": [
      "Plotting Nelson chlorophyll transect\n"
     ]
    },
    {
     "name": "stderr",
     "output_type": "stream",
     "text": []
    },
    {
     "name": "stdout",
     "output_type": "stream",
     "text": [
      "Plotting Nelson backscatter_700 transect\n"
     ]
    },
    {
     "name": "stderr",
     "output_type": "stream",
     "text": []
    },
    {
     "name": "stdout",
     "output_type": "stream",
     "text": [
      "Plotting Nelson oxygen_concentration transect\n"
     ]
    },
    {
     "name": "stderr",
     "output_type": "stream",
     "text": [
      "100%|██████████| 4/4 [1:12:16<00:00, 1084.09s/it]\n"
     ]
    }
   ],
   "source": [
    "for path in tqdm(dataset_full_paths):\n",
    "    dat = xr.open_dataset(path)\n",
    "    glider = dat.glider_name\n",
    "    savedir = current_dir + f'/output/plots/{glider}'\n",
    "    if not os.path.isdir(savedir):\n",
    "        os.mkdir(savedir)\n",
    "    for var in tqdm(varlist, leave=False):\n",
    "        print(f'Plotting {glider} {var} transect')\n",
    "        savepath = savedir + f'/{glider}_{var}_1000.png'\n",
    "        plot_var(dat, var, savepath, ylim = 1000)\n",
    "    dat.close()"
   ]
  },
  {
   "cell_type": "code",
   "execution_count": null,
   "metadata": {},
   "outputs": [],
   "source": [
    "plt.figure(figsize=(12,6))\n",
    "plt.scatter(time2,depth2,c = chl2, vmax = 4)\n",
    "plt.ylim([0,100])\n",
    "plt.gca().invert_yaxis()\n",
    "plt.ylabel('Pressure (dbar)')\n",
    "plt.colorbar(label='{0} ({1})'.format(churchill['chlorophyll'].long_name,churchill['chlorophyll'].units))\n",
    "plt.title(churchill['chlorophyll'].long_name);"
   ]
  },
  {
   "cell_type": "code",
   "execution_count": null,
   "metadata": {},
   "outputs": [],
   "source": [
    "# Function to convert an array from NumPy datetime64 to Python float format\n",
    "def datetime_to_float(dt):\n",
    "  return (dt - np.datetime64('1900-01-01')) / np.timedelta64(1,'D')\n",
    "\n",
    "# Function to convert an array from Python float to NumPy datetime64 format\n",
    "def float_to_datetime(nums):\n",
    "  return (nums * np.timedelta64(1,'D')) + np.datetime64('1900-01-01')\n",
    "\n",
    "# Function to interpolate data from a specified float parameter to a uniform time and pressure grid\n",
    "def interpolate_depth_section(data, param_name,specify_qc_flags=None,pres_interval=1.0):\n",
    "  \"\"\"\n",
    "  Arguments:\n",
    "      param_name: string with netCDF file parameter name (e.g., 'TEMP_ADJUSTED') to interpolate\n",
    "      specify_qc_flags: None to ignore QC flags\n",
    "                        or a list of QC flags (e.g., [1,2,3]) indicating which data to retain before interpolation\n",
    "      pres_interval: vertical resolution for interpolating pressure (z) axis (default: 1.0 dbar)\n",
    "  \n",
    "  Returns:\n",
    "      time_coord: 1-D NumPy array with original profile timestamps in np.datetime64 format\n",
    "      pres_coord: 1-D NumPy array with a uniform pressure (z) coordinate from 0 dbar to the deepest recorded\n",
    "                  pressure value, at a resolution of <pres_interval> dbar\n",
    "      time_grid: 2-D NumPy array with the meshed grid of time_coord\n",
    "      pres_grid: 2-D NumPy array with the meshed grid of pres_coord\n",
    "      param_gridded: 2-D NumPy array with the interpolated parameter values at the locations of time_grid and pres_grid\n",
    "\n",
    "  \"\"\"\n",
    "\n",
    "  # New grid points\n",
    "  time_coord = data['time'].values\n",
    "  pres_coord = np.arange(0,data['pressure'].max(),pres_interval)\n",
    "  time_grid, pres_grid = np.meshgrid(time_coord,pres_coord)\n",
    "  time_grid = datetime_to_float(time_grid)     # Convert from np.datetime64 to float\n",
    "\n",
    "  # 1-D (flattened) versions of old grids and parameter values\n",
    "  time_1D = data['time'].values.flatten()\n",
    "  pres_1D = data['pressure'].values.flatten()\n",
    "  param_1D = data[param_name].values.flatten()\n",
    "  if param_1D.dtype == object:         # If parameter is an array of QC flag data\n",
    "    param_1D = param_1D.astype(float)  # Convert QC flags from dtype 'object' to float\n",
    "    interp_method = 'nearest'          # Use nearest-neighbor interpolation for QC flags to avoid unwanted averaging\n",
    "  else:\n",
    "    interp_method = 'linear'           # Use bilinear interpolation for normal data fields\n",
    "\n",
    "\n",
    "  # Remove NaN values before interpolation\n",
    "  time_1D = datetime_to_float(time_1D[~np.isnan(param_1D)])       # Convert from np.datetime64 to float\n",
    "  pres_1D = pres_1D[~np.isnan(param_1D)]\n",
    "  param_1D = param_1D[~np.isnan(param_1D)]\n",
    "\n",
    "  # Interpolate from irregular points to grid\n",
    "  param_gridded = interpolate.griddata((time_1D,pres_1D),param_1D,(time_grid,pres_grid),method=interp_method)\n",
    "\n",
    "  # Return coordinates, grid, and gridded data\n",
    "  return time_coord, pres_coord, float_to_datetime(time_grid), pres_grid, param_gridded"
   ]
  },
  {
   "cell_type": "code",
   "execution_count": null,
   "metadata": {},
   "outputs": [],
   "source": [
    "# Interpolate data\n",
    "param_name = 'chlorophyll'\n",
    "time_coord, pres_coord, time_grid, pres_grid, param_gridded = interpolate_depth_section(churchill, param_name)\n",
    "\n",
    "# Plot depth section of upper ocean only\n",
    "plt.figure(figsize=(12,6))\n",
    "plt.pcolormesh(time_grid,pres_grid,param_gridded)\n",
    "plt.ylim([0,1000])\n",
    "plt.gca().invert_yaxis()\n",
    "plt.ylabel('Pressure (dbar)')\n",
    "plt.colorbar(label='{0} ({1})'.format(data[param_name].long_name,data[param_name].units))\n",
    "plt.title(data[param_name].long_name);"
   ]
  },
  {
   "cell_type": "code",
   "execution_count": null,
   "metadata": {},
   "outputs": [],
   "source": [
    "def glider_to_pd(nc_path, glider_name, cols, PAR = True):\n",
    "    dat = xr.open_dataset(nc_path)\n",
    "    mission_date = pd.to_datetime(\"2024-08-15 18:57:00\")\n",
    "    dates_nc = dat['time']\n",
    "    filtered_dat = dat.where(dates_nc > mission_date, drop=True)\n",
    "    df_glid = filtered_dat[cols].to_dataframe()\n",
    "    if PAR == True:\n",
    "        if glider_name in ['Cabot', 'Doombar']:\n",
    "            df_glid['DOWNWELLING_PAR'] = 'NaN'\n",
    "        if glider_name in ['Churchill', 'Nelson']:\n",
    "            df_glid['DOWNWELLING_PAR'] = pd.Series(filtered_dat['RAW_DOWNWELLING_PAR'].values)\n",
    "    dat.close()\n",
    "    df_glid['pressure'] = df_glid['pressure'].interpolate()\n",
    "    #df_glid['CHLA'] = df_glid['CHLA'].interpolate()\n",
    "    #df_glid['BBP700'] = df_glid['BBP700'].interpolate()\n",
    "    df_glid['glider'] = glider_name\n",
    "    return(df_glid)"
   ]
  },
  {
   "cell_type": "code",
   "execution_count": null,
   "metadata": {},
   "outputs": [],
   "source": [
    "test = glider_to_pd(\"C:/Users/flapet/OneDrive - NOC/Documents/IDAPro/lib/db_building/data/glider/pomBODCREQ-5915/unit_398/nc_files/L0-timeseries/BioCarbon_churchill_398.nc\", \"Chruchill\", [\"time\", \"temperature\", \"pressure\", \"chlorophyll\"])"
   ]
  }
 ],
 "metadata": {
  "kernelspec": {
   "display_name": "db_env",
   "language": "python",
   "name": "python3"
  },
  "language_info": {
   "codemirror_mode": {
    "name": "ipython",
    "version": 3
   },
   "file_extension": ".py",
   "mimetype": "text/x-python",
   "name": "python",
   "nbconvert_exporter": "python",
   "pygments_lexer": "ipython3",
   "version": "3.12.2"
  }
 },
 "nbformat": 4,
 "nbformat_minor": 2
}
