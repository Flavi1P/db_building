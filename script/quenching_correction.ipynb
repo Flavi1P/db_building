{
 "cells": [
  {
   "cell_type": "markdown",
   "id": "942b7055",
   "metadata": {},
   "source": [
    "# Notebook to correct quenching from a glider dataset\n",
    "\n",
    "The idea is to leverage the number of observation in a glider dataset to achieve a quenching correction using the night time profile as our training dataset of \"unquenched profiles\".\n",
    "\n",
    "1) Binary classification of quenched profiles. The mid-day profiles will be labelled as quenched and mid-night profiles will be labeled as unquenched to predict if dusk and dawn profiles are quenched. \n",
    "2) Second binary classification to predict the quenched layer depth based on F/bbp values. \n",
    "3) Predict a F/bbp factor based on bbp, T, S, depth, Doy. Training is realised on the \"unquenched database\" and new prediction is made on quenched layers. \n",
    "4) Apply the ratio predicted before on the quench layer"
   ]
  },
  {
   "cell_type": "markdown",
   "id": "1956eaa5",
   "metadata": {},
   "source": [
    "## 1. Building the dataset "
   ]
  },
  {
   "cell_type": "markdown",
   "id": "dcbbc084",
   "metadata": {},
   "source": [
    "Open the gliders dataset. I want to end up with one tidy table composed of profile id, doy, time, depth, T, S, F, bbp.\n",
    "I will further derive a \"day_period\" variable that will correspond to mid-day, dusk, mid-night or dawn. TBD what time lag should be before/after sunset and sunset to consider mid-day or mid-night."
   ]
  },
  {
   "cell_type": "code",
   "execution_count": null,
   "id": "481e0f8b",
   "metadata": {},
   "outputs": [],
   "source": [
    "import xarray as xr\n",
    "import polars as pl\n",
    "import glob\n",
    "\n",
    "# Get list of NetCDF files\n",
    "nc_files = glob.glob(\"C:/Users/flapet/OneDrive - NOC/Documents/IDAPro/lib/db_building/data/glider/nc_profiled/*.nc\")\n",
    "\n",
    "# Read and concatenate datasets\n",
    "for file in nc_files:\n",
    "    ds = xr.open_dataset(file, decode_times=True)\n",
    "    glider_name = ds.attrs.get(\"trajectory\").split(\"_\")[0]\n",
    "    # Select variables of interest\n",
    "    vars_of_interest = [\"TIME\", \"DEPTH\", \"TEMP\", \"CHLA\", \"BBP700\", \"ABS_SALINITY\", \"PROFILE_NUMBER\", \"LATITUDE\", \"LONGITUDE\"]\n",
    "    ds_sel = ds[vars_of_interest]\n",
    "    # Convert to pandas DataFrame, then to polars DataFrame\n",
    "    df_pd = ds_sel.to_dataframe().reset_index()\n",
    "    df_pl = pl.from_pandas(df_pd)\n",
    "\n",
    "    #Use only profiling data (-1 is surfacing behavior)\n",
    "    df_pl = df_pl.filter(pl.col(\"PROFILE_NUMBER\") > 0)\n",
    "\n",
    "    df_pl = df_pl.with_columns((pl.col(\"PROFILE_NUMBER\").cast(pl.String) + \"_\" + glider_name).alias(\"profile_id\"))\n",
    "    print(f\"{file} processed, shape: {df_pl.shape}\")\n",
    "\n",
    "    # Concatenate DataFrames\n",
    "    if 'df_concat' in locals():\n",
    "        df_concat = pl.concat([df_concat, df_pl])\n",
    "    else:\n",
    "        df_concat = df_pl\n",
    "\n",
    "df_concat"
   ]
  },
  {
   "cell_type": "code",
   "execution_count": 3,
   "id": "cd2670a7",
   "metadata": {},
   "outputs": [],
   "source": [
    "# Interpolate DEPTH, TEMP, and ABS_SALINITY per profile_id along TIME\n",
    "df_concat = (\n",
    "    df_concat\n",
    "    .sort([\"profile_id\", \"TIME\"])\n",
    "    .with_columns([\n",
    "        pl.col(\"DEPTH\").interpolate().over(\"profile_id\").alias(\"DEPTH_interp\"),\n",
    "        pl.col(\"TEMP\").interpolate().over(\"profile_id\").alias(\"TEMP_interp\"),\n",
    "        pl.col(\"ABS_SALINITY\").interpolate().over(\"profile_id\").alias(\"ABS_SALINITY_interp\"),\n",
    "    ])\n",
    ")"
   ]
  },
  {
   "cell_type": "code",
   "execution_count": 4,
   "id": "62d645f1",
   "metadata": {},
   "outputs": [
    {
     "name": "stdout",
     "output_type": "stream",
     "text": [
      "Number of rows with CHLA and BBP700 but missing one interp variable: 8451\n"
     ]
    }
   ],
   "source": [
    "# Count rows where CHLA and BBP700 are not null, but at least one of the interp columns is null\n",
    "count = (\n",
    "    df_concat\n",
    "    .filter(\n",
    "        (pl.col(\"CHLA\").is_not_null()) &\n",
    "        (pl.col(\"BBP700\").is_not_null()) &\n",
    "        (\n",
    "            pl.col(\"DEPTH_interp\").is_null() |\n",
    "            pl.col(\"TEMP_interp\").is_null() |\n",
    "            pl.col(\"ABS_SALINITY_interp\").is_null()\n",
    "        )\n",
    "    )\n",
    "    .height\n",
    ")\n",
    "print(f\"Number of rows with CHLA and BBP700 but missing one interp variable: {count}\")"
   ]
  },
  {
   "cell_type": "code",
   "execution_count": 5,
   "id": "d1d9fee5",
   "metadata": {},
   "outputs": [
    {
     "data": {
      "text/html": [
       "<div><style>\n",
       ".dataframe > thead > tr,\n",
       ".dataframe > tbody > tr {\n",
       "  text-align: right;\n",
       "  white-space: pre-wrap;\n",
       "}\n",
       "</style>\n",
       "<small>shape: (2_770_636, 11)</small><table border=\"1\" class=\"dataframe\"><thead><tr><th>N_MEASUREMENTS</th><th>TIME</th><th>CHLA</th><th>BBP700</th><th>PROFILE_NUMBER</th><th>LATITUDE</th><th>LONGITUDE</th><th>profile_id</th><th>DEPTH</th><th>TEMP</th><th>ABS_SALINITY</th></tr><tr><td>i64</td><td>datetime[ns]</td><td>f32</td><td>f32</td><td>f64</td><td>f32</td><td>f32</td><td>str</td><td>f64</td><td>f32</td><td>f64</td></tr></thead><tbody><tr><td>326</td><td>2024-05-28 12:59:32.235504896</td><td>18.9727</td><td>0.007497</td><td>1.0</td><td>60.000038</td><td>-24.001507</td><td>&quot;1.0_Cabot&quot;</td><td>10.18995</td><td>8.951067</td><td>0.000369</td></tr><tr><td>330</td><td>2024-05-28 12:59:42.302062848</td><td>18.9727</td><td>0.007497</td><td>1.0</td><td>60.000038</td><td>-24.001507</td><td>&quot;1.0_Cabot&quot;</td><td>10.183345</td><td>8.94232</td><td>0.000369</td></tr><tr><td>334</td><td>2024-05-28 12:59:52.421722112</td><td>18.9946</td><td>0.007497</td><td>1.0</td><td>60.000038</td><td>-24.001507</td><td>&quot;1.0_Cabot&quot;</td><td>10.186647</td><td>8.9334</td><td>0.00037</td></tr><tr><td>337</td><td>2024-05-28 13:00:02.500366336</td><td>18.987301</td><td>0.007497</td><td>1.0</td><td>60.000038</td><td>-24.001507</td><td>&quot;1.0_Cabot&quot;</td><td>10.18995</td><td>8.9259</td><td>0.00037</td></tr><tr><td>340</td><td>2024-05-28 13:00:12.561890304</td><td>18.9727</td><td>0.007497</td><td>1.0</td><td>60.000038</td><td>-24.001507</td><td>&quot;1.0_Cabot&quot;</td><td>10.185822</td><td>8.929325</td><td>0.00037</td></tr><tr><td>&hellip;</td><td>&hellip;</td><td>&hellip;</td><td>&hellip;</td><td>&hellip;</td><td>&hellip;</td><td>&hellip;</td><td>&hellip;</td><td>&hellip;</td><td>&hellip;</td><td>&hellip;</td></tr><tr><td>1374725</td><td>2024-08-19 17:30:46.156890112</td><td>0.9782</td><td>0.000329</td><td>999.0</td><td>62.47134</td><td>-16.046728</td><td>&quot;999.0_Nelson&quot;</td><td>-5.793653</td><td>12.247167</td><td>35.358</td></tr><tr><td>1374729</td><td>2024-08-19 17:30:56.291320320</td><td>0.8979</td><td>0.000336</td><td>999.0</td><td>62.471344</td><td>-16.046844</td><td>&quot;999.0_Nelson&quot;</td><td>-4.714164</td><td>12.247167</td><td>35.357858</td></tr><tr><td>1374731</td><td>2024-08-19 17:31:06.436065280</td><td>0.9198</td><td>0.000321</td><td>999.0</td><td>62.471352</td><td>-16.046959</td><td>&quot;999.0_Nelson&quot;</td><td>-4.179369</td><td>12.246634</td><td>35.356385</td></tr><tr><td>1374736</td><td>2024-08-19 17:31:16.556427264</td><td>0.8249</td><td>0.000315</td><td>999.0</td><td>62.471371</td><td>-16.047297</td><td>&quot;999.0_Nelson&quot;</td><td>-3.109776</td><td>12.246175</td><td>35.354932</td></tr><tr><td>1374739</td><td>2024-08-19 17:31:26.687866112</td><td>0.7957</td><td>0.000331</td><td>999.0</td><td>62.471397</td><td>-16.047779</td><td>&quot;999.0_Nelson&quot;</td><td>-2.574977</td><td>12.24625</td><td>35.354951</td></tr></tbody></table></div>"
      ],
      "text/plain": [
       "shape: (2_770_636, 11)\n",
       "┌───────────┬───────────┬───────────┬──────────┬───┬───────────┬───────────┬───────────┬───────────┐\n",
       "│ N_MEASURE ┆ TIME      ┆ CHLA      ┆ BBP700   ┆ … ┆ profile_i ┆ DEPTH     ┆ TEMP      ┆ ABS_SALIN │\n",
       "│ MENTS     ┆ ---       ┆ ---       ┆ ---      ┆   ┆ d         ┆ ---       ┆ ---       ┆ ITY       │\n",
       "│ ---       ┆ datetime[ ┆ f32       ┆ f32      ┆   ┆ ---       ┆ f64       ┆ f32       ┆ ---       │\n",
       "│ i64       ┆ ns]       ┆           ┆          ┆   ┆ str       ┆           ┆           ┆ f64       │\n",
       "╞═══════════╪═══════════╪═══════════╪══════════╪═══╪═══════════╪═══════════╪═══════════╪═══════════╡\n",
       "│ 326       ┆ 2024-05-2 ┆ 18.9727   ┆ 0.007497 ┆ … ┆ 1.0_Cabot ┆ 10.18995  ┆ 8.951067  ┆ 0.000369  │\n",
       "│           ┆ 8 12:59:3 ┆           ┆          ┆   ┆           ┆           ┆           ┆           │\n",
       "│           ┆ 2.2355048 ┆           ┆          ┆   ┆           ┆           ┆           ┆           │\n",
       "│           ┆ 96        ┆           ┆          ┆   ┆           ┆           ┆           ┆           │\n",
       "│ 330       ┆ 2024-05-2 ┆ 18.9727   ┆ 0.007497 ┆ … ┆ 1.0_Cabot ┆ 10.183345 ┆ 8.94232   ┆ 0.000369  │\n",
       "│           ┆ 8 12:59:4 ┆           ┆          ┆   ┆           ┆           ┆           ┆           │\n",
       "│           ┆ 2.3020628 ┆           ┆          ┆   ┆           ┆           ┆           ┆           │\n",
       "│           ┆ 48        ┆           ┆          ┆   ┆           ┆           ┆           ┆           │\n",
       "│ 334       ┆ 2024-05-2 ┆ 18.9946   ┆ 0.007497 ┆ … ┆ 1.0_Cabot ┆ 10.186647 ┆ 8.9334    ┆ 0.00037   │\n",
       "│           ┆ 8 12:59:5 ┆           ┆          ┆   ┆           ┆           ┆           ┆           │\n",
       "│           ┆ 2.4217221 ┆           ┆          ┆   ┆           ┆           ┆           ┆           │\n",
       "│           ┆ 12        ┆           ┆          ┆   ┆           ┆           ┆           ┆           │\n",
       "│ 337       ┆ 2024-05-2 ┆ 18.987301 ┆ 0.007497 ┆ … ┆ 1.0_Cabot ┆ 10.18995  ┆ 8.9259    ┆ 0.00037   │\n",
       "│           ┆ 8 13:00:0 ┆           ┆          ┆   ┆           ┆           ┆           ┆           │\n",
       "│           ┆ 2.5003663 ┆           ┆          ┆   ┆           ┆           ┆           ┆           │\n",
       "│           ┆ 36        ┆           ┆          ┆   ┆           ┆           ┆           ┆           │\n",
       "│ 340       ┆ 2024-05-2 ┆ 18.9727   ┆ 0.007497 ┆ … ┆ 1.0_Cabot ┆ 10.185822 ┆ 8.929325  ┆ 0.00037   │\n",
       "│           ┆ 8 13:00:1 ┆           ┆          ┆   ┆           ┆           ┆           ┆           │\n",
       "│           ┆ 2.5618903 ┆           ┆          ┆   ┆           ┆           ┆           ┆           │\n",
       "│           ┆ 04        ┆           ┆          ┆   ┆           ┆           ┆           ┆           │\n",
       "│ …         ┆ …         ┆ …         ┆ …        ┆ … ┆ …         ┆ …         ┆ …         ┆ …         │\n",
       "│ 1374725   ┆ 2024-08-1 ┆ 0.9782    ┆ 0.000329 ┆ … ┆ 999.0_Nel ┆ -5.793653 ┆ 12.247167 ┆ 35.358    │\n",
       "│           ┆ 9 17:30:4 ┆           ┆          ┆   ┆ son       ┆           ┆           ┆           │\n",
       "│           ┆ 6.1568901 ┆           ┆          ┆   ┆           ┆           ┆           ┆           │\n",
       "│           ┆ 12        ┆           ┆          ┆   ┆           ┆           ┆           ┆           │\n",
       "│ 1374729   ┆ 2024-08-1 ┆ 0.8979    ┆ 0.000336 ┆ … ┆ 999.0_Nel ┆ -4.714164 ┆ 12.247167 ┆ 35.357858 │\n",
       "│           ┆ 9 17:30:5 ┆           ┆          ┆   ┆ son       ┆           ┆           ┆           │\n",
       "│           ┆ 6.2913203 ┆           ┆          ┆   ┆           ┆           ┆           ┆           │\n",
       "│           ┆ 20        ┆           ┆          ┆   ┆           ┆           ┆           ┆           │\n",
       "│ 1374731   ┆ 2024-08-1 ┆ 0.9198    ┆ 0.000321 ┆ … ┆ 999.0_Nel ┆ -4.179369 ┆ 12.246634 ┆ 35.356385 │\n",
       "│           ┆ 9 17:31:0 ┆           ┆          ┆   ┆ son       ┆           ┆           ┆           │\n",
       "│           ┆ 6.4360652 ┆           ┆          ┆   ┆           ┆           ┆           ┆           │\n",
       "│           ┆ 80        ┆           ┆          ┆   ┆           ┆           ┆           ┆           │\n",
       "│ 1374736   ┆ 2024-08-1 ┆ 0.8249    ┆ 0.000315 ┆ … ┆ 999.0_Nel ┆ -3.109776 ┆ 12.246175 ┆ 35.354932 │\n",
       "│           ┆ 9 17:31:1 ┆           ┆          ┆   ┆ son       ┆           ┆           ┆           │\n",
       "│           ┆ 6.5564272 ┆           ┆          ┆   ┆           ┆           ┆           ┆           │\n",
       "│           ┆ 64        ┆           ┆          ┆   ┆           ┆           ┆           ┆           │\n",
       "│ 1374739   ┆ 2024-08-1 ┆ 0.7957    ┆ 0.000331 ┆ … ┆ 999.0_Nel ┆ -2.574977 ┆ 12.24625  ┆ 35.354951 │\n",
       "│           ┆ 9 17:31:2 ┆           ┆          ┆   ┆ son       ┆           ┆           ┆           │\n",
       "│           ┆ 6.6878661 ┆           ┆          ┆   ┆           ┆           ┆           ┆           │\n",
       "│           ┆ 12        ┆           ┆          ┆   ┆           ┆           ┆           ┆           │\n",
       "└───────────┴───────────┴───────────┴──────────┴───┴───────────┴───────────┴───────────┴───────────┘"
      ]
     },
     "execution_count": 5,
     "metadata": {},
     "output_type": "execute_result"
    }
   ],
   "source": [
    "# Filter out rows with NA in required columns and drop original columns\n",
    "df_filtered = (\n",
    "    df_concat\n",
    "    .filter(\n",
    "        pl.col(\"CHLA\").is_not_null() &\n",
    "        pl.col(\"BBP700\").is_not_null() &\n",
    "        pl.col(\"DEPTH_interp\").is_not_null() &\n",
    "        pl.col(\"TEMP_interp\").is_not_null() &\n",
    "        pl.col(\"ABS_SALINITY_interp\").is_not_null()\n",
    "    )\n",
    "    .drop([\"DEPTH\", \"TEMP\", \"ABS_SALINITY\"])\n",
    "    .rename({\n",
    "        \"DEPTH_interp\": \"DEPTH\",\n",
    "        \"TEMP_interp\": \"TEMP\",\n",
    "        \"ABS_SALINITY_interp\": \"ABS_SALINITY\"\n",
    "    })\n",
    ")\n",
    "df_filtered"
   ]
  },
  {
   "cell_type": "code",
   "execution_count": 9,
   "id": "2104a589",
   "metadata": {},
   "outputs": [
    {
     "name": "stderr",
     "output_type": "stream",
     "text": [
      "C:\\Users\\flapet\\AppData\\Local\\Temp\\ipykernel_33452\\452025040.py:4: DeprecationWarning: `groupby` is deprecated. It has been renamed to `group_by`.\n",
      "  .groupby(\"DATE\")\n",
      "C:\\Users\\flapet\\AppData\\Local\\Temp\\ipykernel_33452\\452025040.py:25: DeprecationWarning: `apply` is deprecated. It has been renamed to `map_elements`.\n",
      "  pl.struct([\"DATE\", \"LAT_MEAN\", \"LON_MEAN\"]).apply(\n",
      "C:\\Users\\flapet\\AppData\\Local\\Temp\\ipykernel_33452\\452025040.py:28: DeprecationWarning: `apply` is deprecated. It has been renamed to `map_elements`.\n",
      "  pl.struct([\"DATE\", \"LAT_MEAN\", \"LON_MEAN\"]).apply(\n"
     ]
    },
    {
     "data": {
      "text/html": [
       "<div><style>\n",
       ".dataframe > thead > tr,\n",
       ".dataframe > tbody > tr {\n",
       "  text-align: right;\n",
       "  white-space: pre-wrap;\n",
       "}\n",
       "</style>\n",
       "<small>shape: (2_770_636, 16)</small><table border=\"1\" class=\"dataframe\"><thead><tr><th>N_MEASUREMENTS</th><th>TIME</th><th>CHLA</th><th>BBP700</th><th>PROFILE_NUMBER</th><th>LATITUDE</th><th>LONGITUDE</th><th>profile_id</th><th>DEPTH</th><th>TEMP</th><th>ABS_SALINITY</th><th>DATE</th><th>DOY</th><th>TIME_ONLY</th><th>SUNRISE</th><th>SUNSET</th></tr><tr><td>i64</td><td>datetime[ns]</td><td>f32</td><td>f32</td><td>f64</td><td>f32</td><td>f32</td><td>str</td><td>f64</td><td>f32</td><td>f64</td><td>date</td><td>i16</td><td>time</td><td>time</td><td>time</td></tr></thead><tbody><tr><td>326</td><td>2024-05-28 12:59:32.235504896</td><td>18.9727</td><td>0.007497</td><td>1.0</td><td>60.000038</td><td>-24.001507</td><td>&quot;1.0_Cabot&quot;</td><td>10.18995</td><td>8.951067</td><td>0.000369</td><td>2024-05-28</td><td>149</td><td>12:59:32.235504896</td><td>04:31:29.290020</td><td>22:36:14.805490</td></tr><tr><td>330</td><td>2024-05-28 12:59:42.302062848</td><td>18.9727</td><td>0.007497</td><td>1.0</td><td>60.000038</td><td>-24.001507</td><td>&quot;1.0_Cabot&quot;</td><td>10.183345</td><td>8.94232</td><td>0.000369</td><td>2024-05-28</td><td>149</td><td>12:59:42.302062848</td><td>04:31:29.290020</td><td>22:36:14.805490</td></tr><tr><td>334</td><td>2024-05-28 12:59:52.421722112</td><td>18.9946</td><td>0.007497</td><td>1.0</td><td>60.000038</td><td>-24.001507</td><td>&quot;1.0_Cabot&quot;</td><td>10.186647</td><td>8.9334</td><td>0.00037</td><td>2024-05-28</td><td>149</td><td>12:59:52.421722112</td><td>04:31:29.290020</td><td>22:36:14.805490</td></tr><tr><td>337</td><td>2024-05-28 13:00:02.500366336</td><td>18.987301</td><td>0.007497</td><td>1.0</td><td>60.000038</td><td>-24.001507</td><td>&quot;1.0_Cabot&quot;</td><td>10.18995</td><td>8.9259</td><td>0.00037</td><td>2024-05-28</td><td>149</td><td>13:00:02.500366336</td><td>04:31:29.290020</td><td>22:36:14.805490</td></tr><tr><td>340</td><td>2024-05-28 13:00:12.561890304</td><td>18.9727</td><td>0.007497</td><td>1.0</td><td>60.000038</td><td>-24.001507</td><td>&quot;1.0_Cabot&quot;</td><td>10.185822</td><td>8.929325</td><td>0.00037</td><td>2024-05-28</td><td>149</td><td>13:00:12.561890304</td><td>04:31:29.290020</td><td>22:36:14.805490</td></tr><tr><td>&hellip;</td><td>&hellip;</td><td>&hellip;</td><td>&hellip;</td><td>&hellip;</td><td>&hellip;</td><td>&hellip;</td><td>&hellip;</td><td>&hellip;</td><td>&hellip;</td><td>&hellip;</td><td>&hellip;</td><td>&hellip;</td><td>&hellip;</td><td>&hellip;</td><td>&hellip;</td></tr><tr><td>1374725</td><td>2024-08-19 17:30:46.156890112</td><td>0.9782</td><td>0.000329</td><td>999.0</td><td>62.47134</td><td>-16.046728</td><td>&quot;999.0_Nelson&quot;</td><td>-5.793653</td><td>12.247167</td><td>35.358</td><td>2024-08-19</td><td>232</td><td>17:30:46.156890112</td><td>05:18:08.059272</td><td>20:54:58.107853</td></tr><tr><td>1374729</td><td>2024-08-19 17:30:56.291320320</td><td>0.8979</td><td>0.000336</td><td>999.0</td><td>62.471344</td><td>-16.046844</td><td>&quot;999.0_Nelson&quot;</td><td>-4.714164</td><td>12.247167</td><td>35.357858</td><td>2024-08-19</td><td>232</td><td>17:30:56.291320320</td><td>05:18:08.059272</td><td>20:54:58.107853</td></tr><tr><td>1374731</td><td>2024-08-19 17:31:06.436065280</td><td>0.9198</td><td>0.000321</td><td>999.0</td><td>62.471352</td><td>-16.046959</td><td>&quot;999.0_Nelson&quot;</td><td>-4.179369</td><td>12.246634</td><td>35.356385</td><td>2024-08-19</td><td>232</td><td>17:31:06.436065280</td><td>05:18:08.059272</td><td>20:54:58.107853</td></tr><tr><td>1374736</td><td>2024-08-19 17:31:16.556427264</td><td>0.8249</td><td>0.000315</td><td>999.0</td><td>62.471371</td><td>-16.047297</td><td>&quot;999.0_Nelson&quot;</td><td>-3.109776</td><td>12.246175</td><td>35.354932</td><td>2024-08-19</td><td>232</td><td>17:31:16.556427264</td><td>05:18:08.059272</td><td>20:54:58.107853</td></tr><tr><td>1374739</td><td>2024-08-19 17:31:26.687866112</td><td>0.7957</td><td>0.000331</td><td>999.0</td><td>62.471397</td><td>-16.047779</td><td>&quot;999.0_Nelson&quot;</td><td>-2.574977</td><td>12.24625</td><td>35.354951</td><td>2024-08-19</td><td>232</td><td>17:31:26.687866112</td><td>05:18:08.059272</td><td>20:54:58.107853</td></tr></tbody></table></div>"
      ],
      "text/plain": [
       "shape: (2_770_636, 16)\n",
       "┌─────────────┬────────────┬───────────┬──────────┬───┬─────┬────────────┬────────────┬────────────┐\n",
       "│ N_MEASUREME ┆ TIME       ┆ CHLA      ┆ BBP700   ┆ … ┆ DOY ┆ TIME_ONLY  ┆ SUNRISE    ┆ SUNSET     │\n",
       "│ NTS         ┆ ---        ┆ ---       ┆ ---      ┆   ┆ --- ┆ ---        ┆ ---        ┆ ---        │\n",
       "│ ---         ┆ datetime[n ┆ f32       ┆ f32      ┆   ┆ i16 ┆ time       ┆ time       ┆ time       │\n",
       "│ i64         ┆ s]         ┆           ┆          ┆   ┆     ┆            ┆            ┆            │\n",
       "╞═════════════╪════════════╪═══════════╪══════════╪═══╪═════╪════════════╪════════════╪════════════╡\n",
       "│ 326         ┆ 2024-05-28 ┆ 18.9727   ┆ 0.007497 ┆ … ┆ 149 ┆ 12:59:32.2 ┆ 04:31:29.2 ┆ 22:36:14.8 │\n",
       "│             ┆ 12:59:32.2 ┆           ┆          ┆   ┆     ┆ 35504896   ┆ 90020      ┆ 05490      │\n",
       "│             ┆ 35504896   ┆           ┆          ┆   ┆     ┆            ┆            ┆            │\n",
       "│ 330         ┆ 2024-05-28 ┆ 18.9727   ┆ 0.007497 ┆ … ┆ 149 ┆ 12:59:42.3 ┆ 04:31:29.2 ┆ 22:36:14.8 │\n",
       "│             ┆ 12:59:42.3 ┆           ┆          ┆   ┆     ┆ 02062848   ┆ 90020      ┆ 05490      │\n",
       "│             ┆ 02062848   ┆           ┆          ┆   ┆     ┆            ┆            ┆            │\n",
       "│ 334         ┆ 2024-05-28 ┆ 18.9946   ┆ 0.007497 ┆ … ┆ 149 ┆ 12:59:52.4 ┆ 04:31:29.2 ┆ 22:36:14.8 │\n",
       "│             ┆ 12:59:52.4 ┆           ┆          ┆   ┆     ┆ 21722112   ┆ 90020      ┆ 05490      │\n",
       "│             ┆ 21722112   ┆           ┆          ┆   ┆     ┆            ┆            ┆            │\n",
       "│ 337         ┆ 2024-05-28 ┆ 18.987301 ┆ 0.007497 ┆ … ┆ 149 ┆ 13:00:02.5 ┆ 04:31:29.2 ┆ 22:36:14.8 │\n",
       "│             ┆ 13:00:02.5 ┆           ┆          ┆   ┆     ┆ 00366336   ┆ 90020      ┆ 05490      │\n",
       "│             ┆ 00366336   ┆           ┆          ┆   ┆     ┆            ┆            ┆            │\n",
       "│ 340         ┆ 2024-05-28 ┆ 18.9727   ┆ 0.007497 ┆ … ┆ 149 ┆ 13:00:12.5 ┆ 04:31:29.2 ┆ 22:36:14.8 │\n",
       "│             ┆ 13:00:12.5 ┆           ┆          ┆   ┆     ┆ 61890304   ┆ 90020      ┆ 05490      │\n",
       "│             ┆ 61890304   ┆           ┆          ┆   ┆     ┆            ┆            ┆            │\n",
       "│ …           ┆ …          ┆ …         ┆ …        ┆ … ┆ …   ┆ …          ┆ …          ┆ …          │\n",
       "│ 1374725     ┆ 2024-08-19 ┆ 0.9782    ┆ 0.000329 ┆ … ┆ 232 ┆ 17:30:46.1 ┆ 05:18:08.0 ┆ 20:54:58.1 │\n",
       "│             ┆ 17:30:46.1 ┆           ┆          ┆   ┆     ┆ 56890112   ┆ 59272      ┆ 07853      │\n",
       "│             ┆ 56890112   ┆           ┆          ┆   ┆     ┆            ┆            ┆            │\n",
       "│ 1374729     ┆ 2024-08-19 ┆ 0.8979    ┆ 0.000336 ┆ … ┆ 232 ┆ 17:30:56.2 ┆ 05:18:08.0 ┆ 20:54:58.1 │\n",
       "│             ┆ 17:30:56.2 ┆           ┆          ┆   ┆     ┆ 91320320   ┆ 59272      ┆ 07853      │\n",
       "│             ┆ 91320320   ┆           ┆          ┆   ┆     ┆            ┆            ┆            │\n",
       "│ 1374731     ┆ 2024-08-19 ┆ 0.9198    ┆ 0.000321 ┆ … ┆ 232 ┆ 17:31:06.4 ┆ 05:18:08.0 ┆ 20:54:58.1 │\n",
       "│             ┆ 17:31:06.4 ┆           ┆          ┆   ┆     ┆ 36065280   ┆ 59272      ┆ 07853      │\n",
       "│             ┆ 36065280   ┆           ┆          ┆   ┆     ┆            ┆            ┆            │\n",
       "│ 1374736     ┆ 2024-08-19 ┆ 0.8249    ┆ 0.000315 ┆ … ┆ 232 ┆ 17:31:16.5 ┆ 05:18:08.0 ┆ 20:54:58.1 │\n",
       "│             ┆ 17:31:16.5 ┆           ┆          ┆   ┆     ┆ 56427264   ┆ 59272      ┆ 07853      │\n",
       "│             ┆ 56427264   ┆           ┆          ┆   ┆     ┆            ┆            ┆            │\n",
       "│ 1374739     ┆ 2024-08-19 ┆ 0.7957    ┆ 0.000331 ┆ … ┆ 232 ┆ 17:31:26.6 ┆ 05:18:08.0 ┆ 20:54:58.1 │\n",
       "│             ┆ 17:31:26.6 ┆           ┆          ┆   ┆     ┆ 87866112   ┆ 59272      ┆ 07853      │\n",
       "│             ┆ 87866112   ┆           ┆          ┆   ┆     ┆            ┆            ┆            │\n",
       "└─────────────┴────────────┴───────────┴──────────┴───┴─────┴────────────┴────────────┴────────────┘"
      ]
     },
     "execution_count": 9,
     "metadata": {},
     "output_type": "execute_result"
    }
   ],
   "source": [
    "# Compute unique dates with average lat/lon for each date\n",
    "date_latlon = (\n",
    "    df_filtered\n",
    "    .groupby(\"DATE\")\n",
    "    .agg([\n",
    "        pl.col(\"LATITUDE\").mean().alias(\"LAT_MEAN\"),\n",
    "        pl.col(\"LONGITUDE\").mean().alias(\"LON_MEAN\")\n",
    "    ])\n",
    ")\n",
    "\n",
    "# Function to compute sunrise and sunset for a date/lat/lon\n",
    "def compute_sun_times_row(row):\n",
    "    date = row[\"DATE\"]\n",
    "    lat = row[\"LAT_MEAN\"]\n",
    "    lon = row[\"LON_MEAN\"]\n",
    "    try:\n",
    "        location = LocationInfo(latitude=lat, longitude=lon)\n",
    "        s = sun(location.observer, date=date, tzinfo=pytz.UTC)\n",
    "        return s[\"sunrise\"].time(), s[\"sunset\"].time()\n",
    "    except Exception:\n",
    "        return None, None\n",
    "\n",
    "# Apply function to each row and create two new columns\n",
    "date_latlon = date_latlon.with_columns([\n",
    "    pl.struct([\"DATE\", \"LAT_MEAN\", \"LON_MEAN\"]).apply(\n",
    "        lambda x: compute_sun_times_row(x)[0]\n",
    "    ).alias(\"SUNRISE\"),\n",
    "    pl.struct([\"DATE\", \"LAT_MEAN\", \"LON_MEAN\"]).apply(\n",
    "        lambda x: compute_sun_times_row(x)[1]\n",
    "    ).alias(\"SUNSET\"),\n",
    "])\n",
    "\n",
    "# Join back to df_filtered on DATE\n",
    "df_filtered = df_filtered.join(date_latlon.select([\"DATE\", \"SUNRISE\", \"SUNSET\"]), on=\"DATE\", how=\"left\")\n",
    "\n",
    "df_filtered\n"
   ]
  }
 ],
 "metadata": {
  "kernelspec": {
   "display_name": "db_env",
   "language": "python",
   "name": "python3"
  },
  "language_info": {
   "codemirror_mode": {
    "name": "ipython",
    "version": 3
   },
   "file_extension": ".py",
   "mimetype": "text/x-python",
   "name": "python",
   "nbconvert_exporter": "python",
   "pygments_lexer": "ipython3",
   "version": "3.10.14"
  }
 },
 "nbformat": 4,
 "nbformat_minor": 5
}
